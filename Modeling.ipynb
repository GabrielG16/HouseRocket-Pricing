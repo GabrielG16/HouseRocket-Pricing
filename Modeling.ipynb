{
 "cells": [
  {
   "cell_type": "code",
   "execution_count": 98,
   "id": "90dd50f8-9b62-4c38-8e4b-5ec1845b33f7",
   "metadata": {},
   "outputs": [],
   "source": [
    "import pandas as pd\n",
    "import numpy as np\n",
    "import seaborn as sns\n",
    "import matplotlib.pyplot as plt\n",
    "from datetime import datetime\n",
    "import warnings\n",
    "\n",
    "from sklearn.model_selection import (train_test_split, \n",
    "                                     cross_validate,\n",
    "                                     cross_val_score)\n",
    "\n",
    "from sklearn.tree import (DecisionTreeRegressor, \n",
    "                          ExtraTreeRegressor)\n",
    "\n",
    "from sklearn.ensemble import RandomForestRegressor\n",
    "\n",
    "from sklearn.linear_model import (LinearRegression, \n",
    "                                  ElasticNet, \n",
    "                                  ElasticNetCV, \n",
    "                                  Ridge, \n",
    "                                  RidgeCV, \n",
    "                                  Lasso, \n",
    "                                  LassoCV)\n",
    "\n",
    "from sklearn.pipeline import Pipeline\n",
    "from sklearn.feature_selection import SelectKBest\n",
    "\n",
    "from sklearn.preprocessing import (MinMaxScaler, \n",
    "                                   RobustScaler, \n",
    "                                   StandardScaler, \n",
    "                                   MaxAbsScaler) \n",
    "\n",
    "from sklearn.metrics import (r2_score, \n",
    "                             mean_squared_error, \n",
    "                             mean_absolute_error)\n",
    "\n",
    "from matplotlib import pyplot as plt\n",
    "import seaborn as sns"
   ]
  },
  {
   "cell_type": "code",
   "execution_count": 4,
   "id": "466f1fe1-d075-4d9f-bab4-7faae0a7e5c2",
   "metadata": {},
   "outputs": [],
   "source": [
    "warnings.filterwarnings('ignore') "
   ]
  },
  {
   "cell_type": "code",
   "execution_count": 5,
   "id": "81af20d1-33c1-40c8-a876-dfd320c8bc44",
   "metadata": {},
   "outputs": [],
   "source": [
    "sns.set_style('darkgrid')"
   ]
  },
  {
   "cell_type": "code",
   "execution_count": 6,
   "id": "71774105-3eb6-4dbc-ae5d-d4cb5a881e61",
   "metadata": {},
   "outputs": [],
   "source": [
    "df = pd.read_csv('kc_house_data.csv')"
   ]
  },
  {
   "cell_type": "code",
   "execution_count": 7,
   "id": "011e8c0c-b99b-4f64-a9c4-bcc72f58e4d0",
   "metadata": {},
   "outputs": [
    {
     "data": {
      "text/html": [
       "<div>\n",
       "<style scoped>\n",
       "    .dataframe tbody tr th:only-of-type {\n",
       "        vertical-align: middle;\n",
       "    }\n",
       "\n",
       "    .dataframe tbody tr th {\n",
       "        vertical-align: top;\n",
       "    }\n",
       "\n",
       "    .dataframe thead th {\n",
       "        text-align: right;\n",
       "    }\n",
       "</style>\n",
       "<table border=\"1\" class=\"dataframe\">\n",
       "  <thead>\n",
       "    <tr style=\"text-align: right;\">\n",
       "      <th></th>\n",
       "      <th>id</th>\n",
       "      <th>date</th>\n",
       "      <th>price</th>\n",
       "      <th>bedrooms</th>\n",
       "      <th>bathrooms</th>\n",
       "      <th>sqft_living</th>\n",
       "      <th>sqft_lot</th>\n",
       "      <th>floors</th>\n",
       "      <th>waterfront</th>\n",
       "      <th>view</th>\n",
       "      <th>...</th>\n",
       "      <th>grade</th>\n",
       "      <th>sqft_above</th>\n",
       "      <th>sqft_basement</th>\n",
       "      <th>yr_built</th>\n",
       "      <th>yr_renovated</th>\n",
       "      <th>zipcode</th>\n",
       "      <th>lat</th>\n",
       "      <th>long</th>\n",
       "      <th>sqft_living15</th>\n",
       "      <th>sqft_lot15</th>\n",
       "    </tr>\n",
       "  </thead>\n",
       "  <tbody>\n",
       "    <tr>\n",
       "      <th>0</th>\n",
       "      <td>7129300520</td>\n",
       "      <td>20141013T000000</td>\n",
       "      <td>221900.0</td>\n",
       "      <td>3</td>\n",
       "      <td>1.00</td>\n",
       "      <td>1180</td>\n",
       "      <td>5650</td>\n",
       "      <td>1.0</td>\n",
       "      <td>0</td>\n",
       "      <td>0</td>\n",
       "      <td>...</td>\n",
       "      <td>7</td>\n",
       "      <td>1180</td>\n",
       "      <td>0</td>\n",
       "      <td>1955</td>\n",
       "      <td>0</td>\n",
       "      <td>98178</td>\n",
       "      <td>47.5112</td>\n",
       "      <td>-122.257</td>\n",
       "      <td>1340</td>\n",
       "      <td>5650</td>\n",
       "    </tr>\n",
       "    <tr>\n",
       "      <th>1</th>\n",
       "      <td>6414100192</td>\n",
       "      <td>20141209T000000</td>\n",
       "      <td>538000.0</td>\n",
       "      <td>3</td>\n",
       "      <td>2.25</td>\n",
       "      <td>2570</td>\n",
       "      <td>7242</td>\n",
       "      <td>2.0</td>\n",
       "      <td>0</td>\n",
       "      <td>0</td>\n",
       "      <td>...</td>\n",
       "      <td>7</td>\n",
       "      <td>2170</td>\n",
       "      <td>400</td>\n",
       "      <td>1951</td>\n",
       "      <td>1991</td>\n",
       "      <td>98125</td>\n",
       "      <td>47.7210</td>\n",
       "      <td>-122.319</td>\n",
       "      <td>1690</td>\n",
       "      <td>7639</td>\n",
       "    </tr>\n",
       "    <tr>\n",
       "      <th>2</th>\n",
       "      <td>5631500400</td>\n",
       "      <td>20150225T000000</td>\n",
       "      <td>180000.0</td>\n",
       "      <td>2</td>\n",
       "      <td>1.00</td>\n",
       "      <td>770</td>\n",
       "      <td>10000</td>\n",
       "      <td>1.0</td>\n",
       "      <td>0</td>\n",
       "      <td>0</td>\n",
       "      <td>...</td>\n",
       "      <td>6</td>\n",
       "      <td>770</td>\n",
       "      <td>0</td>\n",
       "      <td>1933</td>\n",
       "      <td>0</td>\n",
       "      <td>98028</td>\n",
       "      <td>47.7379</td>\n",
       "      <td>-122.233</td>\n",
       "      <td>2720</td>\n",
       "      <td>8062</td>\n",
       "    </tr>\n",
       "    <tr>\n",
       "      <th>3</th>\n",
       "      <td>2487200875</td>\n",
       "      <td>20141209T000000</td>\n",
       "      <td>604000.0</td>\n",
       "      <td>4</td>\n",
       "      <td>3.00</td>\n",
       "      <td>1960</td>\n",
       "      <td>5000</td>\n",
       "      <td>1.0</td>\n",
       "      <td>0</td>\n",
       "      <td>0</td>\n",
       "      <td>...</td>\n",
       "      <td>7</td>\n",
       "      <td>1050</td>\n",
       "      <td>910</td>\n",
       "      <td>1965</td>\n",
       "      <td>0</td>\n",
       "      <td>98136</td>\n",
       "      <td>47.5208</td>\n",
       "      <td>-122.393</td>\n",
       "      <td>1360</td>\n",
       "      <td>5000</td>\n",
       "    </tr>\n",
       "    <tr>\n",
       "      <th>4</th>\n",
       "      <td>1954400510</td>\n",
       "      <td>20150218T000000</td>\n",
       "      <td>510000.0</td>\n",
       "      <td>3</td>\n",
       "      <td>2.00</td>\n",
       "      <td>1680</td>\n",
       "      <td>8080</td>\n",
       "      <td>1.0</td>\n",
       "      <td>0</td>\n",
       "      <td>0</td>\n",
       "      <td>...</td>\n",
       "      <td>8</td>\n",
       "      <td>1680</td>\n",
       "      <td>0</td>\n",
       "      <td>1987</td>\n",
       "      <td>0</td>\n",
       "      <td>98074</td>\n",
       "      <td>47.6168</td>\n",
       "      <td>-122.045</td>\n",
       "      <td>1800</td>\n",
       "      <td>7503</td>\n",
       "    </tr>\n",
       "  </tbody>\n",
       "</table>\n",
       "<p>5 rows × 21 columns</p>\n",
       "</div>"
      ],
      "text/plain": [
       "           id             date     price  bedrooms  bathrooms  sqft_living  \\\n",
       "0  7129300520  20141013T000000  221900.0         3       1.00         1180   \n",
       "1  6414100192  20141209T000000  538000.0         3       2.25         2570   \n",
       "2  5631500400  20150225T000000  180000.0         2       1.00          770   \n",
       "3  2487200875  20141209T000000  604000.0         4       3.00         1960   \n",
       "4  1954400510  20150218T000000  510000.0         3       2.00         1680   \n",
       "\n",
       "   sqft_lot  floors  waterfront  view  ...  grade  sqft_above  sqft_basement  \\\n",
       "0      5650     1.0           0     0  ...      7        1180              0   \n",
       "1      7242     2.0           0     0  ...      7        2170            400   \n",
       "2     10000     1.0           0     0  ...      6         770              0   \n",
       "3      5000     1.0           0     0  ...      7        1050            910   \n",
       "4      8080     1.0           0     0  ...      8        1680              0   \n",
       "\n",
       "   yr_built  yr_renovated  zipcode      lat     long  sqft_living15  \\\n",
       "0      1955             0    98178  47.5112 -122.257           1340   \n",
       "1      1951          1991    98125  47.7210 -122.319           1690   \n",
       "2      1933             0    98028  47.7379 -122.233           2720   \n",
       "3      1965             0    98136  47.5208 -122.393           1360   \n",
       "4      1987             0    98074  47.6168 -122.045           1800   \n",
       "\n",
       "   sqft_lot15  \n",
       "0        5650  \n",
       "1        7639  \n",
       "2        8062  \n",
       "3        5000  \n",
       "4        7503  \n",
       "\n",
       "[5 rows x 21 columns]"
      ]
     },
     "execution_count": 7,
     "metadata": {},
     "output_type": "execute_result"
    }
   ],
   "source": [
    "df.head()"
   ]
  },
  {
   "cell_type": "code",
   "execution_count": 8,
   "id": "e1fdd984-d151-4084-ac8d-f6ad4561aad1",
   "metadata": {},
   "outputs": [],
   "source": [
    "df.drop('id', axis = 1, inplace = True)\n",
    "df.date = pd.to_datetime(df.date)\n",
    "df.waterfront = df.waterfront.astype('bool')\n",
    "df.condition = df.condition.astype('category')\n",
    "df.grade = df.grade.astype('category')\n",
    "df.view = df.view.astype('category')\n",
    "df.yr_built = pd.to_datetime(df.yr_built, format = '%Y')#.dt.year\n",
    "df.zipcode = df.zipcode.astype('object')\n",
    "\n",
    "df.yr_renovated = df.yr_renovated.replace(0, np.nan)\n",
    "df.yr_renovated = pd.to_datetime(df.yr_renovated, format = '%Y')"
   ]
  },
  {
   "cell_type": "markdown",
   "id": "5871860a-d76a-4d78-b8c9-2bcb4d0678a0",
   "metadata": {},
   "source": [
    "## Definição de features e target"
   ]
  },
  {
   "cell_type": "code",
   "execution_count": 9,
   "id": "bb4c72eb-aef0-44a1-985f-d0e437afc820",
   "metadata": {},
   "outputs": [],
   "source": [
    "X = df.drop(['lat','long','zipcode','price','date', 'yr_renovated','yr_built'], axis = 1)\n",
    "y = df.price"
   ]
  },
  {
   "cell_type": "code",
   "execution_count": 96,
   "id": "afca90cc-7739-448a-b772-5c0f281ed5f0",
   "metadata": {},
   "outputs": [],
   "source": [
    "X_train, X_test, y_train, y_test = train_test_split(X, y, test_size = 0.2, random_state = 42, shuffle = True)"
   ]
  },
  {
   "cell_type": "markdown",
   "id": "bdc3ee5d-50b7-45ae-9885-4150f732fc34",
   "metadata": {},
   "source": [
    "## Criação de Pipelines"
   ]
  },
  {
   "cell_type": "code",
   "execution_count": 100,
   "id": "83880e35-3d47-4f6d-91f4-6acdc6ddd5e1",
   "metadata": {},
   "outputs": [
    {
     "name": "stdout",
     "output_type": "stream",
     "text": [
      "LinearRegression() StandardScaler() 0.602194423309228\n",
      "RandomForestRegressor() StandardScaler() 0.7249741638203858\n",
      "DecisionTreeRegressor() StandardScaler() 0.4698085141625018\n",
      "ExtraTreeRegressor() StandardScaler() 0.4371392027433723\n",
      "LinearRegression() RobustScaler() 0.6021944233092282\n",
      "RandomForestRegressor() RobustScaler() 0.727790979786534\n",
      "DecisionTreeRegressor() RobustScaler() 0.4823680478224161\n",
      "ExtraTreeRegressor() RobustScaler() 0.43147551946099155\n",
      "LinearRegression() MinMaxScaler() 0.6021944233092281\n",
      "RandomForestRegressor() MinMaxScaler() 0.7245050925957911\n",
      "DecisionTreeRegressor() MinMaxScaler() 0.48337644470870467\n",
      "ExtraTreeRegressor() MinMaxScaler() 0.429687738051722\n"
     ]
    }
   ],
   "source": [
    "scalers = [StandardScaler(), RobustScaler(), MinMaxScaler(), ]\n",
    "regressors = [LinearRegression(), RandomForestRegressor(), DecisionTreeRegressor(), ExtraTreeRegressor()]\n",
    "\n",
    "for scaler in scalers:\n",
    "    for regressor in regressors:\n",
    "        pipe = Pipeline(steps = [('scaling', scaler), \n",
    "                                 ('modeling', regressor)])\n",
    "        \n",
    "        score = cross_validate(pipe, X=X_train, y=y_train, scoring = 'r2', cv=5)['test_score'].mean()\n",
    "        print(regressor, scaler, score)"
   ]
  },
  {
   "cell_type": "code",
   "execution_count": 43,
   "id": "bb7a2750-dd5c-4298-87e5-63a2b60d5e51",
   "metadata": {},
   "outputs": [
    {
     "data": {
      "text/plain": [
       "0.602194423309226"
      ]
     },
     "execution_count": 43,
     "metadata": {},
     "output_type": "execute_result"
    }
   ],
   "source": [
    "cross_validate(LinearRegression(), X=X_train, y=y_train, scoring = 'r2', cv=5)['test_score'].mean()"
   ]
  },
  {
   "cell_type": "code",
   "execution_count": 83,
   "id": "d1b7f5a2-596e-4c31-a38f-659d18436897",
   "metadata": {},
   "outputs": [],
   "source": [
    "asd = pipe.fit(X_train, y_train)"
   ]
  },
  {
   "cell_type": "code",
   "execution_count": 89,
   "id": "e06ee86d-524f-4341-b8f3-fb53d47d4775",
   "metadata": {},
   "outputs": [
    {
     "data": {
      "text/plain": [
       "array([-30759.75043018,  -9489.12779261,  89019.01930107,   -128.21641324,\n",
       "        -1609.38607266,  47840.43661714,  46358.36283763,  33471.57130865,\n",
       "       115846.01536672,  70835.60184519,  51436.03322329,   7369.75148202,\n",
       "       -18090.06442584])"
      ]
     },
     "execution_count": 89,
     "metadata": {},
     "output_type": "execute_result"
    }
   ],
   "source": [
    "asd.named_steps['modeling'].coef_"
   ]
  }
 ],
 "metadata": {
  "kernelspec": {
   "display_name": "Python 3 (ipykernel)",
   "language": "python",
   "name": "python3"
  },
  "language_info": {
   "codemirror_mode": {
    "name": "ipython",
    "version": 3
   },
   "file_extension": ".py",
   "mimetype": "text/x-python",
   "name": "python",
   "nbconvert_exporter": "python",
   "pygments_lexer": "ipython3",
   "version": "3.9.11"
  }
 },
 "nbformat": 4,
 "nbformat_minor": 5
}
