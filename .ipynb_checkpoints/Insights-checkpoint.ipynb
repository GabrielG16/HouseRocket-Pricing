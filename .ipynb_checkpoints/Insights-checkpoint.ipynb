{
 "cells": [
  {
   "cell_type": "code",
   "execution_count": 1,
   "id": "350566f5-bfb5-4fb0-96bc-866af9d76994",
   "metadata": {},
   "outputs": [],
   "source": [
    "import pandas as pd\n",
    "import numpy as np\n",
    "import seaborn as sns\n",
    "import matplotlib.pyplot as plt"
   ]
  },
  {
   "cell_type": "markdown",
   "id": "53b13f8f-df3c-4a16-90d8-8ac76efa47b8",
   "metadata": {},
   "source": [
    "# Contexto\n",
    "\n",
    "* A House Rocket é uma plataforma digital que tem como modelo de negócio, a compra e a venda de imóveis usando tecnologia. O CEO da House Rocket gostaria de maximizar a receita da empresa encontrando boas oportunidades de negócio.\n",
    "\n",
    "* Sua principal estratégia é comprar boas casas em ótimas localizações com preços baixos e depois revendê-las posteriormente à preços mais altos. Quanto maior a diferença entre a compra e a venda, maior o lucro da empresa e portanto maior sua receita.\n",
    "Entretanto, as casas possuem muitos atributos que as tornam mais ou menos atrativas aos compradores e vendedores e a localização e o período do ano também podem influenciar os preços."
   ]
  },
  {
   "cell_type": "markdown",
   "id": "257bc374-e50b-455b-879b-a0f568f8528f",
   "metadata": {},
   "source": [
    "# Perguntas\n",
    "1. Quais casas o CEO da House Rocket deveria comprar e por qual preço de compra?\n",
    "2. Uma vez a casa em posse da empresa, qual o melhor momento para vendê-las e qual seria o preço da venda?\n",
    "3. A House Rocket deveria fazer uma reforma para aumentar o preço da venda? Quais seriam as sugestões de mudanças? Qual o incremento no preço dado por cada opção de reforma?"
   ]
  },
  {
   "cell_type": "code",
   "execution_count": null,
   "id": "69c60b3c-031d-49c5-a5f8-7b73ddc7c55a",
   "metadata": {},
   "outputs": [],
   "source": []
  }
 ],
 "metadata": {
  "kernelspec": {
   "display_name": "Python 3 (ipykernel)",
   "language": "python",
   "name": "python3"
  },
  "language_info": {
   "codemirror_mode": {
    "name": "ipython",
    "version": 3
   },
   "file_extension": ".py",
   "mimetype": "text/x-python",
   "name": "python",
   "nbconvert_exporter": "python",
   "pygments_lexer": "ipython3",
   "version": "3.9.11"
  }
 },
 "nbformat": 4,
 "nbformat_minor": 5
}
